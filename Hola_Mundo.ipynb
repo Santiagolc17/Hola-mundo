{
  "nbformat": 4,
  "nbformat_minor": 0,
  "metadata": {
    "colab": {
      "provenance": [],
      "authorship_tag": "ABX9TyNr8j7lQia8S+3xlR41tnel",
      "include_colab_link": true
    },
    "kernelspec": {
      "name": "python3",
      "display_name": "Python 3"
    },
    "language_info": {
      "name": "python"
    }
  },
  "cells": [
    {
      "cell_type": "markdown",
      "metadata": {
        "id": "view-in-github",
        "colab_type": "text"
      },
      "source": [
        "<a href=\"https://colab.research.google.com/github/Santiagolc17/Hola-mundo/blob/main/Hola_Mundo.ipynb\" target=\"_parent\"><img src=\"https://colab.research.google.com/assets/colab-badge.svg\" alt=\"Open In Colab\"/></a>"
      ]
    },
    {
      "cell_type": "code",
      "execution_count": 1,
      "metadata": {
        "id": "sc3fd6w8gm2a"
      },
      "outputs": [],
      "source": [
        "#Importamos las librerías requeridas\n",
        "import pandas as pd\n",
        "import numpy as np\n",
        "import matplotlib.pyplot as plt\n",
        "import seaborn as sns"
      ]
    },
    {
      "cell_type": "code",
      "source": [
        "#Cargar archivo csv desde seaborn\n",
        "df=sns.load_dataset(name='car_crashes')\n",
        "#Pasa a ser de dataset a datframe"
      ],
      "metadata": {
        "id": "QNB7TBJ0igGB"
      },
      "execution_count": 10,
      "outputs": []
    },
    {
      "cell_type": "code",
      "source": [
        "# Imprimimos las primeras filas p registros del Dataframe\n",
        "df.head(5)"
      ],
      "metadata": {
        "id": "pNbNI-ROjE14"
      },
      "execution_count": null,
      "outputs": []
    },
    {
      "cell_type": "code",
      "source": [
        "# Imprimimos las primeras filas p registros del Dataframe\n",
        "df.tail(5)"
      ],
      "metadata": {
        "id": "-HAiG6iZkcjl"
      },
      "execution_count": null,
      "outputs": []
    },
    {
      "cell_type": "code",
      "source": [
        "# Imprimimos las primeras filas p registros del Dataframe\n",
        "df.info"
      ],
      "metadata": {
        "id": "YGkJy4b1knOy"
      },
      "execution_count": null,
      "outputs": []
    }
  ]
}